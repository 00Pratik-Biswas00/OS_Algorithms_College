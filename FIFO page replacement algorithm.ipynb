{
 "cells": [
  {
   "cell_type": "code",
   "execution_count": 4,
   "id": "e984f506",
   "metadata": {},
   "outputs": [
    {
     "name": "stdout",
     "output_type": "stream",
     "text": [
      "Enter the page requests separated by spaces: 7 0 1 2 0 3 0 4 2 3 0 3 2 1\n",
      "Enter the number of frames: 3\n",
      "\n",
      "Here is the FIFO sequence:\n",
      "\n",
      "[7]\n",
      "[7, 0]\n",
      "[7, 0, 1]\n",
      "[0, 1, 2]\n",
      "[1, 2, 3]\n",
      "[2, 3, 0]\n",
      "[3, 0, 4]\n",
      "[0, 4, 2]\n",
      "[4, 2, 3]\n",
      "[2, 3, 0]\n",
      "[3, 0, 1]\n",
      "\n",
      "Page Faults: 11\n",
      "Page Hits: 3\n"
     ]
    }
   ],
   "source": [
    "# FIFO page replacement algorithms\n",
    "\n",
    "page_requests = list(map(int, input(\"Enter the page requests separated by spaces: \").split())) # Taking inputs seperatedly\n",
    "num_frames = int(input(\"Enter the number of frames: \"))\n",
    "\n",
    "page_frames = []\n",
    "page_faults = 0\n",
    "page_hits = 0\n",
    "\n",
    "print(\"\\nHere is the FIFO sequence:\\n\")\n",
    "\n",
    "for page in page_requests:\n",
    "    if page not in page_frames:\n",
    "        if len(page_frames) < num_frames:\n",
    "            page_frames.append(page)\n",
    "        else:\n",
    "            page_frames.pop(0)\n",
    "            page_frames.append(page)\n",
    "        page_faults += 1\n",
    "        print(page_frames)\n",
    "    else:\n",
    "        page_hits += 1\n",
    "\n",
    "\n",
    "print(f\"\\nPage Faults: {page_faults}\")\n",
    "print(f\"Page Hits: {page_hits}\")\n"
   ]
  },
  {
   "cell_type": "code",
   "execution_count": null,
   "id": "42c41a9d",
   "metadata": {},
   "outputs": [],
   "source": []
  }
 ],
 "metadata": {
  "kernelspec": {
   "display_name": "Python 3 (ipykernel)",
   "language": "python",
   "name": "python3"
  },
  "language_info": {
   "codemirror_mode": {
    "name": "ipython",
    "version": 3
   },
   "file_extension": ".py",
   "mimetype": "text/x-python",
   "name": "python",
   "nbconvert_exporter": "python",
   "pygments_lexer": "ipython3",
   "version": "3.9.13"
  }
 },
 "nbformat": 4,
 "nbformat_minor": 5
}
