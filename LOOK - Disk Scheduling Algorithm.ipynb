{
 "cells": [
  {
   "cell_type": "code",
   "execution_count": 1,
   "id": "8abe851f",
   "metadata": {},
   "outputs": [
    {
     "name": "stdout",
     "output_type": "stream",
     "text": [
      "Enter the disk queue (space-separated): 176 79 34 60 92 11 41 114\n",
      "Enter the initial head position: 50\n",
      "Enter the head direction (left/right): left\n",
      "Seek Sequence: [41, 34, 11, 60, 79, 92, 114, 176]\n",
      "Seek Time: 204\n"
     ]
    }
   ],
   "source": [
    "# LOOK - Disk Scheduling Algorithm\n",
    "\n",
    "arr = list(map(int, input(\"Enter the disk queue (space-separated): \").split()))\n",
    "head = int(input(\"Enter the initial head position: \"))\n",
    "direction = input(\"Enter the head direction (left/right): \").lower()\n",
    "\n",
    "seek_sequence = []\n",
    "seek_count = 0\n",
    "distance = 0\n",
    "cur_track = 0\n",
    "\n",
    "left = []\n",
    "right = []\n",
    "\n",
    "for i in range(len(arr)):\n",
    "    if arr[i] < head:\n",
    "        left.append(arr[i])\n",
    "    if arr[i] > head:\n",
    "        right.append(arr[i])\n",
    "\n",
    "left.sort()\n",
    "right.sort()\n",
    "\n",
    "run = 2\n",
    "while run:\n",
    "    # Left direction movement\n",
    "    if direction == \"left\":            \n",
    "        for i in range(len(left) - 1, -1, -1):\n",
    "            cur_track = left[i]\n",
    "            seek_sequence.append(cur_track)\n",
    "            distance = abs(cur_track - head)\n",
    "            seek_count += distance\n",
    "            head = cur_track\n",
    "        direction = \"right\"       # Changing direction when one side is done\n",
    "    # Right direction movement\n",
    "    elif direction == \"right\":\n",
    "        for i in range(len(right)):\n",
    "            cur_track = right[i]\n",
    "            seek_sequence.append(cur_track)\n",
    "            distance = abs(cur_track - head)\n",
    "            seek_count += distance\n",
    "            head = cur_track\n",
    "        direction = \"left\"        # Changing direction when one side is done\n",
    "\n",
    "    run -= 1\n",
    "\n",
    "print(\"Seek Sequence:\", seek_sequence)\n",
    "print(\"Seek Time:\", seek_count)\n",
    "\n"
   ]
  },
  {
   "cell_type": "code",
   "execution_count": null,
   "id": "853002c4",
   "metadata": {},
   "outputs": [],
   "source": []
  }
 ],
 "metadata": {
  "kernelspec": {
   "display_name": "Python 3 (ipykernel)",
   "language": "python",
   "name": "python3"
  },
  "language_info": {
   "codemirror_mode": {
    "name": "ipython",
    "version": 3
   },
   "file_extension": ".py",
   "mimetype": "text/x-python",
   "name": "python",
   "nbconvert_exporter": "python",
   "pygments_lexer": "ipython3",
   "version": "3.9.13"
  }
 },
 "nbformat": 4,
 "nbformat_minor": 5
}
