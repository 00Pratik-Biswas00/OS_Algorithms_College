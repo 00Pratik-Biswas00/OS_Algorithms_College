{
 "cells": [
  {
   "cell_type": "code",
   "execution_count": 1,
   "id": "94ee5633",
   "metadata": {},
   "outputs": [
    {
     "name": "stdout",
     "output_type": "stream",
     "text": [
      "Writer is Writing!\n",
      "Writer is Releasing the lock!\n",
      "\n",
      "Writer is Writing!\n",
      "Writer is Releasing the lock!\n",
      "\n",
      "Reader is Reading!\n",
      "Shared Data: 2\n",
      "\n",
      "Writer is Writing!\n",
      "Writer is Releasing the lock!\n",
      "\n",
      "Writer is Writing!\n",
      "Writer is Releasing the lock!\n",
      "\n",
      "Writer is Writing!\n",
      "Writer is Releasing the lock!\n",
      "\n",
      "Writer is Writing!\n",
      "Writer is Releasing the lock!\n",
      "\n",
      "Writer is Writing!\n",
      "Writer is Releasing the lock!\n",
      "\n",
      "Writer is Writing!\n",
      "Writer is Releasing the lock!\n",
      "\n",
      "Reader is Reading!\n",
      "Shared Data: 8\n",
      "\n"
     ]
    }
   ],
   "source": [
    "# Reader-Writer problem using semaphore\n",
    "\n",
    "import threading\n",
    "import random\n",
    "global x\n",
    "x = 0\n",
    "lock = threading.Lock()\n",
    "\n",
    "def Reader():\n",
    "     global x\n",
    "     print('Reader is Reading!')\n",
    "     lock.acquire() \n",
    "     print('Shared Data:', x)\n",
    "     lock.release()\n",
    "     print()\n",
    "    \n",
    "def Writer():\n",
    "     global x\n",
    "     print('Writer is Writing!')\n",
    "     lock.acquire() #Acquire the lock before Writing\n",
    "     x += 1 #Write on the shared memory\n",
    "     print('Writer is Releasing the lock!')\n",
    "     lock.release() #Release the lock after Writing\n",
    "     print()\n",
    " \n",
    "for i in range(1, 11):\n",
    "    randomNumber = random.randint(0, 100) #Generate a Random number between 0 to 100\n",
    "    if(randomNumber > 50):\n",
    "        Thread1 = threading.Thread(target = Reader)\n",
    "        Thread1.start()\n",
    "    else:\n",
    "        Thread2 = threading.Thread(target = Writer)\n",
    "        Thread2.start()\n",
    "     \n",
    "Thread1.join()\n",
    "Thread2.join()"
   ]
  },
  {
   "cell_type": "code",
   "execution_count": null,
   "id": "d40e09a7",
   "metadata": {},
   "outputs": [],
   "source": []
  }
 ],
 "metadata": {
  "kernelspec": {
   "display_name": "Python 3 (ipykernel)",
   "language": "python",
   "name": "python3"
  },
  "language_info": {
   "codemirror_mode": {
    "name": "ipython",
    "version": 3
   },
   "file_extension": ".py",
   "mimetype": "text/x-python",
   "name": "python",
   "nbconvert_exporter": "python",
   "pygments_lexer": "ipython3",
   "version": "3.9.13"
  }
 },
 "nbformat": 4,
 "nbformat_minor": 5
}
