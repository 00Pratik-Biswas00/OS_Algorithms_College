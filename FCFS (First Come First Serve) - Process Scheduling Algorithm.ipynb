{
 "cells": [
  {
   "cell_type": "code",
   "execution_count": 3,
   "id": "80566c31",
   "metadata": {},
   "outputs": [
    {
     "name": "stdout",
     "output_type": "stream",
     "text": [
      "Enter no. of processes: 4\n",
      "Enter process id, arrival time and burst time respectively: \n",
      "ID AT BT\n",
      "1 0 5\n",
      "2 5 6\n",
      "3 2 2\n",
      "4 3 9\n",
      "Id\tAT\tBT\tCT\tTAT\tWT\n",
      "1 \t 0 \t 5 \t 5 \t 5 \t 0\n",
      "3 \t 2 \t 2 \t 7 \t 5 \t 3\n",
      "4 \t 3 \t 9 \t 16 \t 13 \t 4\n",
      "2 \t 5 \t 6 \t 22 \t 17 \t 11\n",
      "Average turn around time:  10.0\n",
      "Average waiting time:  4.5\n"
     ]
    }
   ],
   "source": [
    "# FCFS (First Come First Serve) - Process Scheduling Algorithm\n",
    "\n",
    "number_of_processes=int(input(\"Enter no. of processes: \"))\n",
    "print(\"Enter process id, arrival time and burst time respectively: \\nID AT BT\")\n",
    "l=[]\n",
    "\n",
    "# l[i][0] -> Process ID\n",
    "# l[i][1] -> Arrival Time\n",
    "# l[i][2] -> Burst Time\n",
    "\n",
    "ct, tat, wt=0, 0, 0\n",
    "\n",
    "for _ in range(number_of_processes):\n",
    "    l.append(list(map(int,input().split())))\n",
    "\n",
    "for i in range(number_of_processes):\n",
    "    for j in range(i+1,number_of_processes):\n",
    "        if(l[i][1]>l[j][1]):\n",
    "            l[i],l[j]=l[j],l[i]\n",
    "        \n",
    "for i in range(0,number_of_processes):\n",
    "    if(ct>=l[i][1]):\n",
    "        ct+=l[i][2]\n",
    "        l[i].append(ct)\n",
    "    else:\n",
    "        ct+=1\n",
    "\n",
    "# l[i][3] -> Completion Time\n",
    "# l[i][4] = l[i][3]-l[i][1] -> Turn Around Time\n",
    "# l[i][5] = l[i][3]-l[i][1]-l[i][2] -> Waiting Time\n",
    "\n",
    "print(\"Id\\tAT\\tBT\\tCT\\tTAT\\tWT\")\n",
    "\n",
    "for i in range(number_of_processes):\n",
    "    print(l[i][0],\"\\t\",l[i][1],\"\\t\",l[i][2],\"\\t\",l[i][3],\"\\t\",l[i][3]-l[i][1],\"\\t\",l[i][3]-l[i][1]-l[i][2])\n",
    "    tat+=l[i][3]-l[i][1]\n",
    "    wt+=l[i][3]-l[i][1]-l[i][2]\n",
    "\n",
    "print(\"Average turn around time: \",tat/number_of_processes)\n",
    "print(\"Average waiting time: \",wt/number_of_processes)\n"
   ]
  },
  {
   "cell_type": "code",
   "execution_count": null,
   "id": "d8a32a69",
   "metadata": {},
   "outputs": [],
   "source": []
  }
 ],
 "metadata": {
  "kernelspec": {
   "display_name": "Python 3 (ipykernel)",
   "language": "python",
   "name": "python3"
  },
  "language_info": {
   "codemirror_mode": {
    "name": "ipython",
    "version": 3
   },
   "file_extension": ".py",
   "mimetype": "text/x-python",
   "name": "python",
   "nbconvert_exporter": "python",
   "pygments_lexer": "ipython3",
   "version": "3.9.13"
  }
 },
 "nbformat": 4,
 "nbformat_minor": 5
}
