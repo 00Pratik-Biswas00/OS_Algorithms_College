{
 "cells": [
  {
   "cell_type": "code",
   "execution_count": 2,
   "id": "ce6aa601",
   "metadata": {},
   "outputs": [
    {
     "name": "stdout",
     "output_type": "stream",
     "text": [
      "Enter the disk requests separated by spaces: 176 79 34 60 92 11 41 114\n",
      "Enter the initial head position: 50\n",
      "Seek Sequence: [41, 34, 11, 60, 79, 92, 114, 176]\n",
      "Total Seek Time: 204\n"
     ]
    }
   ],
   "source": [
    "# SSTF (Shortest Seek Time First) - Disk Scheduling Algorithm\n",
    "\n",
    "requests = list(map(int, input(\"Enter the disk requests separated by spaces: \").split())) # Taking input seperatedly\n",
    "initial_head = int(input(\"Enter the initial head position: \")) # Initial head position\n",
    "\n",
    "sequence = []\n",
    "total_seek_time = 0\n",
    "current_head = initial_head\n",
    "\n",
    "while requests:\n",
    "    next_request = min(requests, key=lambda x: abs(x - current_head))\n",
    "    seek_time = abs(next_request - current_head)\n",
    "    total_seek_time += seek_time\n",
    "    current_head = next_request\n",
    "    sequence.append(current_head)\n",
    "    requests.remove(current_head)\n",
    "\n",
    "print(f\"Seek Sequence: {sequence}\")\n",
    "print(f\"Total Seek Time: {total_seek_time}\")\n",
    "\n"
   ]
  },
  {
   "cell_type": "code",
   "execution_count": null,
   "id": "161913bd",
   "metadata": {},
   "outputs": [],
   "source": []
  }
 ],
 "metadata": {
  "kernelspec": {
   "display_name": "Python 3 (ipykernel)",
   "language": "python",
   "name": "python3"
  },
  "language_info": {
   "codemirror_mode": {
    "name": "ipython",
    "version": 3
   },
   "file_extension": ".py",
   "mimetype": "text/x-python",
   "name": "python",
   "nbconvert_exporter": "python",
   "pygments_lexer": "ipython3",
   "version": "3.9.13"
  }
 },
 "nbformat": 4,
 "nbformat_minor": 5
}
