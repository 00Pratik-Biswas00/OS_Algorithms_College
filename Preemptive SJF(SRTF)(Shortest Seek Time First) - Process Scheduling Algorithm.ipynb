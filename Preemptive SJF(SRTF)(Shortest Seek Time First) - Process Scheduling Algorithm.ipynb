{
 "cells": [
  {
   "cell_type": "code",
   "execution_count": 1,
   "id": "19bd7a94",
   "metadata": {},
   "outputs": [
    {
     "name": "stdout",
     "output_type": "stream",
     "text": [
      "Enter number of jobs: 5\n",
      "Enter process arrival time and burst time:\n",
      "P1 2 8\n",
      "P2 7 1\n",
      "P3 6 2\n",
      "P4 3 6\n",
      "P5 5 4\n",
      "Process\tArrival Time\tBurst Time\tCompletion Time\tT.A.T\tW.T\n",
      "P1\t\t2\t\t8\t\t22\t20\t12\n",
      "P2\t\t7\t\t1\t\t9\t2\t1\n",
      "P3\t\t6\t\t2\t\t8\t2\t0\n",
      "P4\t\t3\t\t6\t\t12\t9\t3\n",
      "P5\t\t5\t\t4\t\t16\t11\t7\n",
      "Average turn around time: 8.8\n",
      "Average waiting time: 4.6\n"
     ]
    }
   ],
   "source": [
    "# Preemptive SJF(SRTF)(Shortest Seek Time First) - Process Scheduling Algorithm\n",
    "\n",
    "# n -> Number of processes\n",
    "# p -> Process ID []\n",
    "# at -> Arrival Time []\n",
    "# bt -> Burst Time []\n",
    "# ct -> Completion Time {}\n",
    "# tat -> Turn Around Time []\n",
    "# wt -> Waiting Time []\n",
    "\n",
    "n = int(input(\"Enter number of jobs: \"))\n",
    "print(\"Enter process arrival time and burst time:\")\n",
    "jobs = []\n",
    "total_time = 0  # Total time\n",
    "\n",
    "# Initialize variables\n",
    "p, at, bt, ct, tat, wt = [], [], [], {}, [], []\n",
    "for i in range(n):\n",
    "    process_id, arrival_time, burst_time = input().split()\n",
    "    p.append(process_id)\n",
    "    ct[i]=0\n",
    "    at.append(int(arrival_time))\n",
    "    bt.append(int(burst_time))\n",
    "    jobs.append([process_id, int(arrival_time), int(burst_time),i])\n",
    "    total_time += int(burst_time)\n",
    "\n",
    "current_time = 0\n",
    "completed = [False] * n\n",
    "arrived = []\n",
    "\n",
    "while current_time <= total_time:\n",
    "    # Check for newly arrived processes\n",
    "    for i in range(n):\n",
    "        if not completed[i] and jobs[i][1] <= current_time:\n",
    "            arrived.append([jobs[i][0], jobs[i][1], jobs[i][2],jobs[i][3]])\n",
    "            completed[i] = True\n",
    "    if arrived:\n",
    "    # Find the job with the shortest burst time among the arrived processes\n",
    "        arrived.sort(key=lambda x: x[2])\n",
    "        arrived[0][2]-=1\n",
    "        ct[arrived[0][3]]=current_time+1\n",
    "\n",
    "        if(arrived[0][2]==0):\n",
    "            arrived=arrived[1:]\n",
    "    current_time +=1\n",
    "    \n",
    "for i in range(n):\n",
    "    tat.append(ct[i]-at[i])\n",
    "    wt.append(tat[i]-bt[i])\n",
    "\n",
    "print(\"Process\\tArrival Time\\tBurst Time\\tCompletion Time\\tT.A.T\\tW.T\")\n",
    "for i in range(n):\n",
    "    print(f\"{p[i]}\\t\\t{at[i]}\\t\\t{bt[i]}\\t\\t{ct[i]}\\t{tat[i]}\\t{wt[i]}\")\n",
    "\n",
    "print(f\"Average turn around time: {sum(tat)/n}\")\n",
    "print(f\"Average waiting time: {sum(wt)/n}\")\n"
   ]
  },
  {
   "cell_type": "code",
   "execution_count": null,
   "id": "28dfda20",
   "metadata": {},
   "outputs": [],
   "source": []
  }
 ],
 "metadata": {
  "kernelspec": {
   "display_name": "Python 3 (ipykernel)",
   "language": "python",
   "name": "python3"
  },
  "language_info": {
   "codemirror_mode": {
    "name": "ipython",
    "version": 3
   },
   "file_extension": ".py",
   "mimetype": "text/x-python",
   "name": "python",
   "nbconvert_exporter": "python",
   "pygments_lexer": "ipython3",
   "version": "3.9.13"
  }
 },
 "nbformat": 4,
 "nbformat_minor": 5
}
