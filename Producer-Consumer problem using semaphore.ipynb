{
 "cells": [
  {
   "cell_type": "code",
   "execution_count": 2,
   "id": "d3ffaafe",
   "metadata": {},
   "outputs": [
    {
     "name": "stdout",
     "output_type": "stream",
     "text": [
      "Produced 1. Buffer: [1]\n",
      "Consumed 1. Buffer: []\n",
      "Produced 2. Buffer: [2]\n",
      "Produced 3. Buffer: [2, 3]\n",
      "Consumed 2. Buffer: [3]\n",
      "Produced 4. Buffer: [3, 4]\n",
      "Consumed 3. Buffer: [4]\n",
      "Produced 5. Buffer: [4, 5]\n",
      "Produced 6. Buffer: [4, 5, 6]\n",
      "Consumed 4. Buffer: [5, 6]\n",
      "Produced 7. Buffer: [5, 6, 7]\n",
      "Produced 8. Buffer: [5, 6, 7, 8]\n",
      "Consumed 5. Buffer: [6, 7, 8]\n",
      "Produced 9. Buffer: [6, 7, 8, 9]\n",
      "Produced 10. Buffer: [6, 7, 8, 9, 10]\n",
      "Consumed 6. Buffer: [7, 8, 9, 10]\n",
      "Consumed 7. Buffer: [8, 9, 10]\n",
      "Consumed 8. Buffer: [9, 10]\n",
      "Consumed 9. Buffer: [10]\n",
      "Consumed 10. Buffer: []\n"
     ]
    }
   ],
   "source": [
    "# Producer-Consumer problem using semaphore\n",
    "\n",
    "import threading\n",
    "import time\n",
    "\n",
    "buffer = []\n",
    "MAX_SIZE = 5\n",
    "mutex = threading.Semaphore(1)  # Controls access to the buffer\n",
    "empty = threading.Semaphore(MAX_SIZE)  # Counts empty slots in the buffer\n",
    "full = threading.Semaphore(0)  # Counts filled slots in the buffer\n",
    "\n",
    "def producer():\n",
    "    for i in range(1,11):\n",
    "        empty.acquire()\n",
    "        mutex.acquire()\n",
    "        buffer.append(i)\n",
    "        print(f\"Produced {i}. Buffer: {buffer}\")\n",
    "        mutex.release()\n",
    "        full.release()\n",
    "        time.sleep(0.5)\n",
    "\n",
    "def consumer():\n",
    "    for i in range(1,11):\n",
    "        full.acquire()\n",
    "        mutex.acquire()\n",
    "        item = buffer.pop(0)\n",
    "        print(f\"Consumed {item}. Buffer: {buffer}\")\n",
    "        mutex.release()\n",
    "        empty.release()\n",
    "        time.sleep(1)\n",
    "\n",
    "# Create producer and consumer threads\n",
    "producer_thread = threading.Thread(target=producer)\n",
    "consumer_thread = threading.Thread(target=consumer)\n",
    "\n",
    "# Start threads\n",
    "producer_thread.start()\n",
    "consumer_thread.start()\n",
    "\n",
    "# Wait for threads to finish\n",
    "producer_thread.join()\n",
    "consumer_thread.join()"
   ]
  },
  {
   "cell_type": "code",
   "execution_count": null,
   "id": "d2336290",
   "metadata": {},
   "outputs": [],
   "source": []
  }
 ],
 "metadata": {
  "kernelspec": {
   "display_name": "Python 3 (ipykernel)",
   "language": "python",
   "name": "python3"
  },
  "language_info": {
   "codemirror_mode": {
    "name": "ipython",
    "version": 3
   },
   "file_extension": ".py",
   "mimetype": "text/x-python",
   "name": "python",
   "nbconvert_exporter": "python",
   "pygments_lexer": "ipython3",
   "version": "3.9.13"
  }
 },
 "nbformat": 4,
 "nbformat_minor": 5
}
